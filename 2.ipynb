{
 "cells": [
  {
   "cell_type": "markdown",
   "metadata": {},
   "source": [
    "# 2 Một số công cụ mật mã\n",
    "\n",
    "Các công cụ mật mã được nghiên cứu trong mục này gồm hàm băm mật mã, mã hóa/giải mã và chữ kí số."
   ]
  },
  {
   "cell_type": "markdown",
   "metadata": {},
   "source": [
    "## <a id='muc_2_1'></a>2.1 Hàm băm mật mã\n",
    "\n",
    "|<a id='hinh_11'></a>![Hàm băm](resource/hash.png)|\n",
    "|:--|\n",
    "|_Hình 11: Hàm băm._|\n",
    "\n",
    "Hàm băm $h$ có đầu vào là dữ liệu nhị phân kích thước tùy ý, đầu ra là dữ liệu nhị phân kích thước cố định ([_Hình 11_](#hinh_11)) được gọi là hàm băm mật mã nếu nó có 3 tính chất an toàn sau:\n",
    "-   _Kháng tiền ảnh_: Cho $v$, rất khó tìm $m$ để $h(m) = v$.\n",
    "-   _Kháng tiền ảnh 2_: Cho $m_1$, rất khó tìm $m_2$ thỏa $m_2 \\neq m_1$ và $h(m_2) = h(m_1)$.\n",
    "-   _Kháng va chạm_: Rất khó tìm $m_1$ và $m_2$ thoả $m_1 \\neq m_2$ và $h(m_1) = h(m_2)$.\n",
    "\n",
    "Ngoài ra, 2 tính chất khác cũng không kém phần quan trọng của một hàm băm mật mã là:\n",
    "-   _Tính toán nhanh_: Việc tính toán giá trị băm được thực hiện dễ dàng và nhanh chóng bằng phần cứng hay phần mềm.\n",
    "-   _Đầu ra ngẫu nhiên_: Đầu ra của hàm băm mật mã mang tính ngẫu nhiên cao, khó dự đoán và khó nhận thấy sự liên hệ với đầu vào (lật một bit ở đầu vào sẽ làm lật ngẫu nhiên khoảng một nửa số bit đầu ra). Tính chất này có thể xem là tiên quyết của 3 tính chất an toàn kể trên."
   ]
  },
  {
   "cell_type": "markdown",
   "metadata": {},
   "source": [
    "Thông số an toàn của một số hàm băm mật mã phổ biến được trình bày trong [_Bảng 2_](#bang_2).\n",
    "\n",
    "<a id='bang_2'></a>_Bảng 2: Thông số an toàn của một số hàm băm mật mã phổ biến_\n",
    "\n",
    "|Tên thuật toán|Độ dài đầu ra _(tính bằng bit)_|Độ phức tạp tính toán của thuật toán tìm tiền ảnh tốt nhất _(tính bằng số lần thực hiện hàm băm tương ứng)_|Độ phức tạp tính toán của thuật toán tìm va chạm tốt nhất _(tính bằng số lần thực hiện hàm băm tương ứng)_|\n",
    "|:--|:--|:--|:--|\n",
    "|MD5|128|$2^{123.4}$|$2^{18}$|\n",
    "|SHA-1|160|$2^{160}$|$2^{63.1}$|\n",
    "|SHA256|256|$2^{256}$|$2^{128}$|\n",
    "|SHA512|512|$2^{512}$|$2^{256}$|\n",
    "|SHA3-256|256|$2^{256}$|$2^{128}$|\n",
    "|SHA3-512|512|$2^{512}$|$2^{256}$|\n",
    "|BLAKE2s|256|$2^{256}$|$2^{128}$|\n",
    "|BLAKE2b|256|$2^{256}$|$2^{128}$|"
   ]
  },
  {
   "cell_type": "markdown",
   "metadata": {},
   "source": [
    "Một trong những ứng dụng nổi bật của hàm băm mật mã đối với chuỗi khối đó là, hàm băm mật mã rất thích hợp để làm hàm tạo định danh $f_{bid}$ cho khối, bởi:\n",
    "-   Định danh được suy ra trực tiếp từ khối ở dạng số hóa (không cần ai đứng ra gán định danh).\n",
    "-   Việc tính toán định danh cũng không tốn nhiều tài nguyên (do tính chất tính toán nhanh).\n",
    "-   Mỗi khối có một định danh riêng (do tính kháng va chạm).\n",
    "-   Định danh giúp đảm bảo tính toàn vẹn cho khối (do tính kháng tiền ảnh 2) và chuỗi khối (chỉ cần định danh của khối cuối cùng trong chuỗi khối là ta có thể kiểm tra toàn bộ dữ liệu chuỗi khối có bị chỉnh sửa hay không vì mỗi khối trong chuỗi đều chứa định danh của khối trước đó).\n",
    "\n",
    "Vậy nên, kể từ thời điểm này, ta ngầm định hàm tạo định danh cho khối là một hàm băm mật mã an toàn (có độ dài đầu ra $n$ đủ lớn, chẳng hạn 256 bit; và chưa có thuật toán tìm tiền ảnh hoặc tìm va chạm có độ phức tạp tính toán tương ứng nhỏ hơn $2^n$ hay $2^{n/2}$)."
   ]
  },
  {
   "cell_type": "markdown",
   "metadata": {},
   "source": [
    "## 2.2 Mã hóa và giải mã\n",
    "\n",
    "Nếu các nút trong hệ thống không muốn chia sẻ dữ liệu chuỗi khối ra bên ngoài, nhưng mạng ngang hàng có nền tảng là một mạng công cộng (chẳng hạn Internet), thì đây chính là lúc ta sử dụng mật mã hóa và giải mật mã, gọi ngắn gọn là mã hóa và giải mã (thuật ngữ tiếng Anh tương ứng là _encryption/decryption_, tránh nhầm lẫn với _encoding/decoding_) để đảm bảo tính bí mật cho khối và chuỗi khối."
   ]
  },
  {
   "cell_type": "markdown",
   "metadata": {},
   "source": [
    "Mã hóa và giải mã có thể theo hai dạng: đối xứng ([_Hình 12_](#hinh_12)) và phi đối xứng ([_Hình 13_](#hinh_13)).\n",
    "\n",
    "|<a id='hinh_12'></a>![Mật mã đối xứng](resource/symmetric-key-encryption.png)|<a id='hinh_13'></a>![Mật mã phi đối xứng](resource/asymmetric-key-encryption.png)\n",
    "|:--|:--|\n",
    "|_Hình 12: Mã hóa/giải mã đối xứng. (https://en.wikipedia.org/wiki/Cryptography)_|_Hình 13: Mã hóa/giải mã phi đối xứng. (nguồn https://en.wikipedia.org/wiki/Cryptography)_|"
   ]
  },
  {
   "cell_type": "markdown",
   "metadata": {},
   "source": [
    "Đối với mã hóa/giải mã đối xứng, khóa mã hóa và khóa giải mã thường giống nhau hoặc dễ dàng suy ra nhau (nếu có khóa mã hóa sẽ dễ dàng suy ra khóa giải mã và ngược lại). Trong quá trình truyền tin, hai bên gửi, nhận phải thống nhất trước với nhau khóa mã hóa/giải mã và giữ khóa này bí mật."
   ]
  },
  {
   "cell_type": "markdown",
   "metadata": {},
   "source": [
    "Trong khi đó, với mã hóa/giải mã phi đối xứng, ta có thể dễ dàng suy ra khóa mã hóa từ khóa giải mã, nhưng chiều ngược lại thì không. Đây chính là nguồn gốc cho tên gọi đối xứng và phi đối xứng. Khóa mã hóa thường được công khai còn khóa giải mã được giữ bí mật. Như vậy, ai cũng có thể mã hóa một thông điệp nhưng chỉ người sở hữu khóa bí mật mới có thể giải mã và đọc được thông điệp đó. Điều này tương tự như khi ta đặt một lá thư vào trong hòm thư, chỉ có người sở hữu chìa khóa hòm thư mới đọc được lá thư mà ta đặt vào trước đó."
   ]
  },
  {
   "cell_type": "markdown",
   "metadata": {},
   "source": [
    "Một cách tổng quát, các thuật toán, giao thức mật mã (không chỉ riêng mã hóa/giải mã phi đối xứng) có sử dụng một cặp khóa bí mật/công khai đều là một dạng thức của mật mã phi đối xứng (hay mật mã khóa công khai)."
   ]
  },
  {
   "cell_type": "markdown",
   "metadata": {},
   "source": [
    "<a id='bang_3'></a>_Bảng 3: So sánh một số tính chất của mã hóa/giải mã đối xứng và phi đối xứng. Dấu hoa thị (*) đại diện cho một ưu điểm._\n",
    "\n",
    "|Tính chất|Mã hóa/giải mã đối xứng|Mã hóa/giải mã phi đối xứng|\n",
    "|:--|:--|:--|\n",
    "|Tốc độ tính toán|Nhanh*|Chậm|\n",
    "|Kích thước thông điệp được mã hóa|Gần như không giới hạn*|Nhỏ|\n",
    "|Cần một kênh truyền an toàn để trao đổi khóa|Đúng|Sai*|\n",
    "\n",
    "Qua [_Bảng 3_](#bang_3), có thể thấy mã hóa/giải mã đối xứng có một nhược điểm, đó là hai bên gửi nhận phải thống nhất được khóa mã hóa/giải mã trước khi truyền tin. Điều này thường không khả thi, bởi nếu như có một kênh truyền an toàn để trao đổi khóa, tại sao không trực tiếp dùng nó để truyền tin mà phải sử dụng mã hóa/giải mã? Mật mã phi đối xứng ra đời chính là để giải quyết vấn đề này. Chẳng hạn, bên gửi có thể dùng mã hóa/giải mã phi đối xứng để gửi một khóa đối xứng đến bên nhận, sau đó, hai bên dùng khóa này để mã hóa/giải mã (dạng đối xứng) các thông điệp bí mật thật sự muốn trao đổi."
   ]
  },
  {
   "cell_type": "markdown",
   "metadata": {},
   "source": [
    "## 2.3 Chữ ký số\n",
    "\n",
    "Bên cạnh việc giải quyết bài toán trao đổi khóa trong môi trường công cộng, chữ ký số là một ứng dụng khác của mật mã phi đối xứng.\n",
    "\n",
    "Tương tự như chữ ký truyền thống, chữ ký số cần đảm bảo 2 tính chất: chỉ duy nhất một người có thể ký ra được chữ ký như vậy và ai cũng có thể kiểm tra chữ ký đó có phải là do người này đã ký hay không. [_Hình 14_](#hinh_14) mô tả quá trình tạo và kiểm tra chữ ký số. Khóa dùng để tạo chữ ký được giữ bí mật, trong khi đó, khóa dùng để kiểm tra chữ ký được công khai.\n",
    "\n",
    "|<a id='hinh_14'></a>![Tạo và kiểm tra chữ ký số](resource/digital-signature.png)|\n",
    "|:--|\n",
    "|*Hình 14: Tạo và kiểm tra chữ ký số. (nguồn https://en.wikipedia.org/wiki/Digital_signature)*|\n",
    "\n",
    "Ngoài kiểm tra nguồn gốc dữ liệu, chữ ký số còn đảm bảo tính toàn vẹn của dữ liệu được ký. Điều này có nghĩa là, khi ta nhận được một đoạn dữ liệu kèm chữ ký số được kiểm tra hợp lệ, ta có thể an tâm đoạn dữ liệu đó đích thị do người ký tạo ra và chưa hề bị chỉnh sửa. Nói cách khác, chữ kí số cung cấp cho ta 2 tính chất: tính toàn vẹn và tính chống chối bỏ, là 2 tính chất an toàn rất \"quý\" mà ta có thể bổ sung cho chuỗi khối. Chẳng hạn, trong một hệ thống quản lý hồ sơ bệnh án, ta muốn kiểm tra danh sách bệnh nhân đi khám bệnh trong ngày hôm nay tại bệnh viện X có đúng do bệnh viện X công bố hay không và liệu có bị chỉnh sửa gì không, cũng như đảm bảo việc bệnh viện X không thể phủ nhận việc đã công bố danh sách này, chữ ký số có lẽ là giải pháp hữu hiệu nhất."
   ]
  }
 ],
 "metadata": {
  "kernelspec": {
   "display_name": "Python 2",
   "language": "python",
   "name": "python2"
  },
  "language_info": {
   "codemirror_mode": {
    "name": "ipython",
    "version": 2
   },
   "file_extension": ".py",
   "mimetype": "text/x-python",
   "name": "python",
   "nbconvert_exporter": "python",
   "pygments_lexer": "ipython2",
   "version": "2.7.16"
  }
 },
 "nbformat": 4,
 "nbformat_minor": 2
}
