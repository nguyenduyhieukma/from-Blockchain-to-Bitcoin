{
 "cells": [
  {
   "cell_type": "markdown",
   "metadata": {},
   "source": [
    "## 1.5 Sơ lược về Bitcoin\n",
    "\n",
    "Bitcoin được phát minh bởi Satoshi Nakamoto (định danh đời thực chưa được biết đến) và bắt đầu hoạt động từ 3-1-2009 (dựa trên dấu thời gian trên khối đầu tiên). Mục tiêu của nó là cung cấp một phương pháp giao dịch tiền tệ trực tuyến theo hướng phi tập trung (không thông qua một tổ chức tài chính trung gian nào). Bitcoin là chuỗi khối lâu đời nhất, là khởi nguồn cho lý thuyết chuỗi khối và rất nhiều ứng dụng trên nền tảng chuỗi khối mà con người có thể nghĩ ra.\n",
    "\n",
    "Mục này sẽ cho ta cái nhìn rõ nét hơn về Bitcoin, một chuỗi khối công cộng, sau khá nhiều nội dung có hơi hướng trừu tượng về chuỗi khối mà ta đã trải qua ở những mục trước. Lần lượt ta sẽ xem qua các thiết kế về mạng ngang hàng, máy trạng thái, và luật đồng thuận của Bitcoin.\n",
    "\n",
    "Lưu ý, để đơn giản, chúng ta sẽ bám sát bản thiết kế được Satoshi công bố trong bài viết \"Bitcoin: A Peer-to-Peer Electronic Cash System\". Tuy Bitcoin ngoài thực tế được triển khai có phức tạp hơn đôi chút, nhưng những nguyên lý hoạt động cơ bản của nó vẫn được giữ nguyên so với bản thiết kế này."
   ]
  },
  {
   "cell_type": "markdown",
   "metadata": {},
   "source": [
    "### 1.5.1 Mạng ngang hàng\n",
    "\n",
    "Mạng ngang hàng Bitcoin được xây dựng trên nền tảng mạng Internet (do Bitcoin là một chuỗi khối công cộng). Dữ liệu trao đổi trên các liên kết TCP."
   ]
  },
  {
   "cell_type": "markdown",
   "metadata": {},
   "source": [
    "#### 1.5.1.1 Hình trạng mạng\n",
    "\n",
    "Hình trạng mạng Bitcoin (_Hình 1.11_) rất đơn giản gồm các nút liên kết với nhau một cách ngẫu nhiên và không có cấu trúc gì đặc biệt. Nút có thể chọn để lắng nghe kết nối từ nút khác hoặc không. Mỗi nút có từ 8 đến 125 liên kết với nút khác (có thể nhiều hoặc ít hơn tùy nhu cầu và khả năng của nút đó). Hai nút có liên kết trực tiếp với nhau được gọi là hàng xóm của nhau. Hiện tại, có khoảng gần 10000 nút đang lắng nghe trong mạng Bitcoin.\n",
    "\n",
    "|![Hình trạng mạng Bitcoin](resource/network-topology.png)|\n",
    "|:-:|\n",
    "|_Hình 1.11: Hình trạng mạng Bitcoin_|\n",
    "\n",
    "Một nút khi mới gia nhập mạng ngang hàng có thể quảng bá địa chỉ mà mình đang lắng nghe (nếu có) để các nút khác trong mạng biết được sự hiện diện của mình và kết nối đến khi cần thiết. Ngoài ra, nút này cũng có quyền yêu cầu hàng xóm xung quanh gửi cho mình danh sách các địa chỉ lắng nghe mà họ biết để chủ động thực hiện các kết nối đến các địa chỉ đó nếu muốn."
   ]
  },
  {
   "cell_type": "markdown",
   "metadata": {},
   "source": [
    "#### 1.5.1.2 Cách thức gia nhập\n",
    "\n",
    "Để gia nhập mạng Bitcoin, một nút cần biết địa chỉ lắng nghe của ít nhất một nút khác trong mạng. Hiện tại ta có các khả năng sau:\n",
    "-   Một nút nếu từng gia nhập mạng trước đó sẽ sẵn có trong tay danh sách địa chỉ lắng nghe của các nút khác trong mạng.\n",
    "-   Một số máy chủ DNS có tham gia mạng Bitcoin và cập nhật danh sách địa chỉ lắng nghe của các nút trong mạng. Nó sẽ trả về một số lượng (20-30) địa chỉ lắng nghe mỗi khi có yêu cầu truy vấn đến. Hiện tại, nút có thể gửi truy vấn DNS cho các tên miền: seed.bitcoin.sipa.be, dnsseed.bluematt.me, dnsseed.bitcoin.dashjr.org, ... để nhận các địa chỉ này. Những tên miền trên đều được tích hợp trong các phần mềm Bitcoin thông dụng (chẳng hạn Bitcoin Core).\n",
    "-   Địa chỉ lắng của các nút có độ tin cậy cao có thể dễ dàng được tìm thấy trên mạng Internet. Tương tự, chúng cũng được tích hợp trong các phần mềm Bitcoin thông dụng.\n",
    "-   Nút nhận địa chỉ lắng nghe của nút khác trực tiếp từ người vận hành."
   ]
  },
  {
   "cell_type": "markdown",
   "metadata": {},
   "source": [
    "#### 1.5.1.3 Cách thức đồng bộ cây khối\n",
    "\n",
    "Bitcoin mặc định chỉ các khối nằm trên nhánh chính (nhánh chứa chuỗi sự kiện được thống nhất) của cây khối được đồng bộ giữa các nút với nhau. Nút thực hiện đồng bộ ngay sau khi gia nhập mạng ngang hàng.\n",
    "\n",
    "Một phiên đồng bộ về cơ bản diễn ra như sau:\n",
    "0.  Giả sử nút A vừa gia nhập mạng và có liên kết với nút B đang vận hành bình thường. Hình ảnh cây khối tại mỗi nút được cho trong _Hình 1.12_.\n",
    "1.  Nút A gửi cho nút B yêu cầu đồng bộ kèm định danh của một số khối trong nhánh chính của mình (nếu có) theo thứ tự độ cao khối giảm dần. Chẳng hạn, nút A gửi $f_{bid}(B_{10}), f_{bid}(B_9), f_{bid}(B_7), f_{bid}(B_3)$ cho nút B.\n",
    "2.  Nút B khi nhận được yêu cầu đồng thuận sẽ lần lượt kiểm tra định danh của từng khối gửi kèm. Nếu có khối thỏa mãn là khối thuộc nhánh chính (của nút B), nó sẽ trả về nút A các khối còn lại trong nhánh kể từ khối đó. Nếu không có khối thỏa mãn, toàn bộ nhánh chính sẽ được trả về (xảy ra khi nút A mới lần đầu tiên gia nhập). Chẳng hạn, nút B lần lượt kiểm tra thấy $f_{bid}(B_{10})$ không thỏa, $f_{bid}(B_9)$ không thỏa, $f_{bid}(B_7)$ thỏa nên sẽ trả về A lần lượt $B_8, B_{11}, B_{12}, B_{13}$.\n",
    "3.  Dựa trên các khối trả về, nút A cập nhật lại cây khối của mình.\n",
    "\n",
    "|![Ví dụ về trạng thái cấy khối ở các nút trước khi đồng bộ](resource/blockchain-synchronization.png)|\n",
    "|:-:|\n",
    "|_Hình 1.12: Ví dụ về hình ảnh cây khối tại nút A (vừa mới gia nhập mạng) và nút B (đang vận hành bình thường)._|\n",
    "\n",
    "A cứ thế lặp lại phiên đồng bộ với B (hoặc một nút khác) cho đến khi số lượng khối trả về bằng 0. Lúc này, nút A có thể bắt đầu vận hành bình thường và quá trình đồng bộ xem như hoàn tất.\n",
    "\n",
    "Một số điểm cần lưu ý:\n",
    "-  Ở bước 1, việc A phải gửi cho B nhiều định danh khối thuộc nhánh chính thay vì chỉ duy nhất định danh của khối ở ngọn là để đảm bảo quá trình đồng bộ vẫn diễn ra suôn sẻ trong trường hợp nhánh chính của A chỉ là một nhánh phụ của B như trong _Hình 1.12_.\n",
    "-  Nếu mật độ khối được A chọn gửi đi quá dày đặc sẽ dẫn đến số lượng định phải danh truyền đi là rất lớn, trong bối cảnh độ dài nhánh chính của Bitcoin hiện nay rơi vào khoảng gần 600 nghìn khối. Ngược lại, nếu mật độ càng thưa thì khả năng A phải nhận những khối mình đã có rồi càng cao. Vì thế, mật độ khối tối ưu nhất để A lựa chọn sẽ là: dày đặc ở ngọn và giảm dần về gốc theo quy luật hàm mũ. Tuy nhiên, trên thực tế, nhánh phụ dài nhất trong lịch sử Bitcoin từng được ghi nhận chỉ có độ dài bằng 4; vì vậy, A chỉ cần gửi đi định danh của 5 khối ở ngọn là đủ.\n",
    "-  Ở bước 2, B không nhất thiết phải trả về tất cả các khối còn lại trong nhánh chính (vì dù gì A cũng sẽ lặp lại một phiên đồng bộ khác cho đến khi quá trình đồng bộ hoàn tất), mà giới hạn ở một số lượng nào đó (chẳng hạn 500 khối kế tiếp)."
   ]
  },
  {
   "cell_type": "markdown",
   "metadata": {},
   "source": [
    "#### 1.5.1.4 Cách thức quảng bá đối tượng\n",
    "\n",
    "Để quảng bá một đối tượng (sự kiện, khối hoặc địa chỉ lắng nghe), Bitcoin sử dụng kĩ thuật làm tràn đơn giản: mỗi nút khi nhận được một đối tượng sẽ kiểm tra tính hợp lệ của đối tượng; nếu hợp lệ, nút này sẽ gửi đối tượng đến các hàng xóm của mình, trừ nút đã gửi mình đối tượng.\n",
    "\n",
    "Tuy đơn giản nhưng kĩ thuật làm tràn có một nhược điểm quan trọng là băng thông mạng thường bị lãng phí (nút phải nhận nhiều bản sao của đối tượng một cách không cần thiết). Để phần nào khắc phục nhược điểm trên, trong mạng Bitcoin, khi cần phải gửi đi một đối tượng có kích thước lớn, nút gửi sẽ gửi định danh của đối tượng (thường có kích thước nhỏ hơn nhiều) đi trước, nếu nút nhận chưa từng gặp đối tượng này gần đây, nó sẽ yêu cầu nút gửi gửi phần dữ liệu hoàn chỉnh của đối tượng."
   ]
  },
  {
   "cell_type": "markdown",
   "metadata": {},
   "source": [
    "### 1.5.2 Máy trạng thái\n",
    "\n",
    "Máy trạng thái chính là phần lõi, quyết định ý nghĩa và chức năng cho chuỗi khối. Trong mục này, ta sẽ lần lượt xem qua bản thiết kế phần trạng thái và phần sự kiện của máy trạng thái bên trong Bitcoin, từ đó hiểu được tại sao Bitcoin có thể trở thành một hệ thống xử lý giao dịch tiền tệ trực tuyến."
   ]
  },
  {
   "cell_type": "markdown",
   "metadata": {},
   "source": [
    "#### 1.5.2.1 Trạng thái\n",
    "\n",
    "Đối với Bitcoin, trạng thái là tập các đồng tiền đang hiện hữu. Mỗi đồng tiền có hai thuộc tính: giá trị và chủ sỡ hữu.\n",
    "\n",
    "Thuộc tính thứ nhất, giá trị, được biểu diễn bằng một số nguyên dương có đơn vị tính là Satoshi. Ngoài ra, người ta cũng thường hay sử dụng đơn vị BTC với công thức quy đổi: $1$ BTC tương đương $10^8$ Satoshi.\n",
    "\n",
    "Thuộc tính còn lại, chủ sở hữu, là một khóa công khai theo thuật toán chữ ký số ECDSA-secp256k1 dùng để kiểm tra tính hợp lệ của chữ ký lên nội dung số về việc đồng tiền được tiêu như thế nào. Như vậy, người sở hữu một đồng tiền chính là người nắm trong tay khóa bí mật tương ứng với khóa công khai \"ghi trên\" đồng tiền đó (chỉ người này mới có thể tạo được chữ ký hợp lệ)."
   ]
  },
  {
   "cell_type": "markdown",
   "metadata": {},
   "source": [
    "#### 1.5.2.2 Sự kiện\n",
    "\n",
    "Trong Bitcoin, mỗi sự kiện là một giao dịch. Mỗi giao dịch sẽ phá hủy một (hoặc nhiều) đồng tiền cũ và tạo ra một (hoặc nhiều) đồng tiền mới, làm thay đổi tập đồng tiền đang hiện hữu, hay nói cách khác là làm trạng thái chuyển dịch.\n",
    "\n",
    "Lấy ví dụ: An đang sở hữu một đồng 1 BTC và muốn mua một quyển sách từ Bình giá 0.2 BTC. Để trả tiền cho Bình, An có thể tạo ra một giao dịch với nội dung là phá hủy đồng 1 BTC của An và tạo ra một đồng 0.2 BTC với chủ sở hữu là Bình và một đồng 0.8 BTC với chủ sở hữu vẫn là An. Kết quả cuối cùng là 0.2 BTC chuyển từ túi An sang Bình như đôi bên mong muốn.\n",
    "\n",
    "Dĩ nhiên, để một giao dịch là hợp lệ, nó cần thỏa mãn các yêu cầu sau (một số yêu cầu có thể được thay đổi để phục vụ triển khai luật đồng thuận, chi tiết xem _Mục 1.5.3_):\n",
    "1.  Các đồng tiền bị phá hủy phải thật sự hiện hữu.\n",
    "2.  Tổng giá trị các đồng tiền bị phá hủy bằng với tổng giá trị các đồng tiền được tạo mới.\n",
    "3.  Giao dịch phải thu thập đủ chữ kí từ các chủ sở hữu của những đồng tiền bị phá hủy.\n",
    "\n",
    "Dễ thấy, các yêu cầu số 2 và 3 có thể dễ dàng được kiểm tra bởi các thông tin cần thiết đều nằm ngay trên nội dung giao dịch. Trong khi đó, muốn kiểm tra yêu cầu số 1, ta phải nắm rõ tập đồng tiền đang hiện hữu trong hệ thống (trạng thái hiện tại) bằng cách theo dõi toàn bộ các giao dịch hợp lệ đã được thực hiện trong quá khứ (chuỗi sự kiện đã xảy ra).\n",
    "\n",
    "Bên cạnh đó, ta cũng cần định danh cho mỗi đồng tiền vì 2 đồng tiền khác nhau có thể giống nhau cả về giá trị lẫn chủ sở hữu, và điều này khiến cho người dùng chịu rủi ro từ nguy cơ tấn công phát lại. Chẳng hạn như trong ví dụ trước, nếu An có 2 đồng tiền cùng mệnh giá 1 BTC thì Bình có thể phát lại giao dịch (bao gồm cả chữ ký) mà An đã thực hiện để hưởng lợi bất chính thêm 0.2 BTC (khiến An mất thêm 0.2 BTC).\n",
    "\n",
    "Với Bitcoin, định danh một đồng tiền chính là định danh giao dịch đã tạo ra đồng tiền đó kèm một số thứ tự để phân biệt giữa các đồng tiền cùng được một giao dịch tạo ra, trong đó, định danh một giao dịch được tính bằng cách áp dụng thuật toán hàm băm mật mã SHA-256d (SHA-256 2 lần) lên toàn bộ nội dung số của giao dịch (nguyên nhân tại sao một hàm băm mật mã được lựa chọn để tạo định danh có thể xem lại tại _Mục 1.2.1_). SHA-256d cũng là hàm băm mặc định trong Bitcoin.\n",
    "\n",
    "Tổng hợp lại, một giao dịch trong Bitcoin bao gồm những nội dung cơ bản sau:\n",
    "-   Danh sách định danh của những đồng tiền bị phá hủy.\n",
    "-   Danh sách những đồng tiền được tạo mới.\n",
    "-   Chữ ký từ các chủ sở hữu của những đồng tiền bị phá hủy lên hai nội dung trên."
   ]
  },
  {
   "cell_type": "markdown",
   "metadata": {},
   "source": [
    "### 1.5.3 Luật đồng thuận\n",
    "\n",
    "Bitcoin là một chuỗi khối công cộng (ai cũng có thể gia nhập hay rời khỏi mạng ngang hàng bất cứ lúc nào, cũng như tự sinh một (hoặc nhiều) cặp khóa công khai/bí mật để tham gia vào các hoạt động giao dịch). Như đã đề cập đến ở _Mục 1.4.1_, Bitcoin áp dụng luật đồng thuận bằng chứng công việc, loại hình công việc sử dụng là giải câu đó băm cùng các nội dung thiết kế gần như giống với ví dụ về luật đồng thuận được đưa ra trong _Bảng 1.8_."
   ]
  },
  {
   "cell_type": "markdown",
   "metadata": {},
   "source": [
    "#### 1.5.3.1 Những thay đối với giao dịch\n",
    "\n",
    "Theo như _Bảng 1.8_, ta cần bổ sung thêm 3 trường cho sự kiện gồm: định danh thành viên muốn công bố sự kiện, phí ghép sự kiện và chữ ký của thành viên này lên toàn bộ sự kiện. Đối với Bitcoin, sự kiện là giao dịch và ta không cần phải thêm vào bất cứ một trường nào cả, bởi vì:\n",
    "\n",
    "-   _Thành viên muốn công bố sự kiện_: ngầm định là các chủ sở hữu của những đồng tiền bị phá hủy.\n",
    "-   _Phí ghép sự kiện vào khối_: ngầm định là chênh lệch giữa tổng giá trị đầu vào so với đầu ra. Nghĩa là, Bitcoin cho phép tổng giá trị của các đồng tiền bị phá hủy lớn hơn so với các đồng tiền được tạo mới trong một giao dịch, và phần chênh lệch được tính là phí nộp cho bên công bố khối.\n",
    "-   _Chữ ký của thành viên muốn công bố sự kiện lên toàn bộ sự kiện_: ngầm định là chữ ký từ các chủ sở hữu của những đồng tiền bị phá hủy lên toàn bộ nội dung giao dịch."
   ]
  },
  {
   "cell_type": "markdown",
   "metadata": {},
   "source": [
    "#### 1.5.3.2 Những thay đổi đối với khối\n",
    "\n",
    "Đầu tiên, Bitcoin thêm một giao dịch đặc biệt vào mỗi khối. Giao dịch này không phá hủy bất cứ đồng tiền nào mà tạo mới một đồng tiền có giá trị bằng tổng tiền thưởng công bố khối và phí ghép sự kiện từ các giao dịch trong khối. Thuộc tính chủ sở hữu của đồng tiền này ngầm xác định thành viên công bố khối. Đây là cách duy nhất để một đồng tiền trong Bitcoin được tạo ra (nếu xem những giao dịch khác chỉ là sự chuyển tiền qua lại giữa các thành viên với nhau)."
   ]
  },
  {
   "cell_type": "markdown",
   "metadata": {},
   "source": [
    "Về cấu trúc khối, Bitcoin tổ chức các giao dịch thành một cây Merkle, đặt gốc cây vào trong tiêu đề khối và chỉ những trường nằm trong tiêu đề khối là được băm (bằng thuật toán SHA-256d) để tạo định danh như trong _Hình 1.13_.\n",
    "\n",
    "|![Cấu trúc khối có sử dụng cây Merkle](resource/block-structure-using-merkle-tree.png)|\n",
    "|:-:|\n",
    "|_Hình 1.13: Cấu trúc khối có sử dụng cây Merkle._|\n",
    "\n",
    "Đối với cấu trúc khối thông thường (_Hình 1.14_), nếu muốn kiểm tra giao dịch có thuộc khối hay không, bắt buộc ta phải có trong tay toàn bộ nội dung khối (bao gồm tất cả các giao dịch trong khối) để có thể băm và so sánh giá trị băm với định danh của khối. Như vậy, trong trường hợp này, bằng chứng thành viên, dùng để chứng minh một giao dịch nằm trong một khối, chính là toàn bộ dữ liệu khối và có kích thước $O(n)$ (với $n$ là số giao dịch trong khối).\n",
    "\n",
    "|![Cấu trúc khối thông thường](resource/normal-block-structure.png)|\n",
    "|:-:|\n",
    "|_Hình 1.14: Cấu trúc khối thông thường._|\n",
    "\n",
    "Còn đối với cấu trúc khối như trong _Hình 1.13_, bằng chứng thành viên chỉ bao gồm: giao dịch cần kiểm tra, các nút Merkle anh em trên đường đi từ giao dịch trở về gốc cây Merkle, phần tiêu đề và định danh của khối. Dễ thấy độ lớn phần dữ liệu này chủ yếu phụ thuộc tuyến tính vào chiều cao cây Merkle (khi n lớn) nên kích thước bằng chứng thành viên trong trường hợp này chỉ là $O(log(n))$. Chẳng hạn, để chứng minh giao dịch 3 thuộc khối, ta chỉ cần dữ liệu của bản thân giao dịch 3, h4, h12, phần tiêu đề và định danh của khối. Việc xác minh được thực hiện như sau: lần lượt tính `h3 = h(giao dịch 3)`, `h34 = h(h3 + h4)`, `h1234 = h(h12 + h34)` và cuối cùng, giao dịch 3 thuộc khối nếu `h1234 == (tiêu đề khối).(gốc cây Merkle)` và `h(tiêu đề khối) == định danh khối`\n",
    "    \n",
    "|![Cấu trúc khối có sử dụng cây Merkle 2](resource/block-structure-using-merkle-tree2.png)|\n",
    "|:-:|\n",
    "|_Hình 1.15: Cấu trúc khối có sử dụng cây Merkle: Có thể giảm kích thước khối bằng cách loại bỏ những giao dịch không còn cần thiết. So với khối trong Hình 1.13, các giao dịch 1, 2 và 4 đã bị loại bỏ. Việc loại bỏ một giao dịch cần đảm bảo không ảnh hưởng đến các giao dịch còn lại (vẫn có thể kiểm tra các giao dịch còn lại có thuộc khối hay không), thông qua thay thế những giao dịch bị loại bỏ bằng các giá trị băm tại những nút Merkle phù hợp (h4 và h12)._|\n",
    "\n",
    "Việc tổ chức các giao dịch thành cây Merkle không những vẫn đảm bảo tính toàn vẹn cho khối, mà còn giúp Bitcoin thu hút người dùng hơn:\n",
    "-   Nếu tất cả đồng tiền mà một giao dịch tạo ra đều đã được chủ sở hữu của chúng tiêu từ khá lâu (bị phá hủy bởi những giao dịch khác nằm trong các khối có tuổi đủ lớn (khoảng từ 6 trở lên)) thì sự tồn tại của giao dịch đó không còn mang lại nhiều ý nghĩa nữa. Nút có thể loại bỏ giao dịch này ra khỏi khối chứa nó để tiết kiệm bộ nhớ (_Hình 1.15_). Điều này giúp làm giảm đáng kể yêu cầu về dung lượng bộ nhớ (RAM, ổ cứng) cần thiết để vận hành một nút mạng Bitcoin.\n",
    "-   Ta có thể thuyết phục một máy tính với tài nguyên phần cứng hạn chế (chẳng hạn một thiết bị IoT) về tính hợp lệ của một giao dịch, mà không đòi hỏi nó phải đồng bộ và duy trì một cây khối hoàn chỉnh (vốn không khả thi vì hao tổn nhiều tài nguyên), bằng cách: gửi nó bằng chứng thành viên cần để khẳng định giao dịch là thành viên của một khối nào đó, kèm phần tiêu đề của một vài khối tiếp theo, để nó tự xác minh tuổi của khối chứa giao dịch đã đủ lớn như nó mong muốn hay chưa. Nhờ cây Merkle mà tổng dữ liệu cần trao đổi và xử lý trong trường hợp này có kích thước nhỏ vừa phải. Nếu giao dịch thuộc khối có tuổi đủ lớn thì xem như, giao dịch đã được chấp nhận trên toàn hệ thống, và dĩ nhiên là hợp lệ."
   ]
  },
  {
   "cell_type": "markdown",
   "metadata": {},
   "source": [
    "Với Bitcoin, Một khối là hợp lệ nếu nó đồng thời thỏa mãn tất cả những ràng buộc sau:\n",
    "-   Định danh nhỏ hơn giá trị ngưỡng được thống nhất (xem _Mục 1.5.3.3_ về cách thức điều chỉnh giá trị ngưỡng).\n",
    "-   Dấu thời gian có giá trị nằm giữa thời điểm công bố khối trước đó và thời điểm hiện tại, nhưng được phép sai lệch trong khoảng 1-2 giờ. Điều này giúp Bitcoin không cần lo lắng về chuyện các nút mạng phải đồng bộ đồng hồ chính xác với một máy chủ tập trung nào đó.\n",
    "-   Kích thước nhỏ hơn 1MB. Điều này giúp giảm bớt gánh nặng xử lý khối tại các nút và khuyến khích các thành viên trả phí để công bố sự kiện, bởi bên công bố khối chắc chắn sẽ ưu tiên cho những giao dịch trả phí cao trước, dẫn đến các giao dịch không trả phí có thể sẽ phải chờ rất lâu để được ghép vào một khối nào đó. Tuy nhiên, mặt trái của nó là khiến tốc độ \"xử lý\" giao dịch của hệ thống bị giới hạn (do số giao dịch trong mỗi khối bị giới hạn trong khi tần suất công bố khối gần như không đổi), phải trả phí cao cũng có thể khiến Bitcoin giảm thu hút người dùng hơn.\n",
    "-   Tồn tại khối được mở rộng (khối trước đó).\n",
    "-   Chứa chuỗi giao dịch hợp lệ (bao gồm giao dịch đặc biệt)."
   ]
  },
  {
   "cell_type": "markdown",
   "metadata": {},
   "source": [
    "#### 1.5.3.3 Cách thức điều chỉnh giá trị ngưỡng và tiền thưởng công bố khối\n",
    "\n",
    "Về việc điều chỉnh giá trị ngưỡng $\\epsilon$:\n",
    "-   Tần suất công bố khối trung bình được duy trì: 10 phút/khối.\n",
    "-   Giá trị ngưỡng ban đầu: $\\epsilon_0$ = 0x00000000ffff0000000000000000000000000000000000000000000000000000.\n",
    "-   Chu kì điều chỉnh ngưỡng: $N_\\epsilon$ = 2016 khối.\n",
    "\n",
    "Về việc điều chỉnh tiền thưởng công bố khối $r$:\n",
    "-   Tiền thưởng khối ban đầu: $r_0$ = 50 BTC.\n",
    "-   Chu kỳ giảm nửa: $N_r$ = 210 nghìn khối (khoảng 4 năm).\n",
    "-   Tổng giá trị tiền ảo được giới hạn: $S = N_r \\cdot r_0 \\cdot (1 + 1/2 + 1/4 + 1/8 + \\dots) = 21$ triệu BTC."
   ]
  },
  {
   "cell_type": "markdown",
   "metadata": {},
   "source": [
    "#### 1.5.3.4 Toàn cảnh hoạt động tại mỗi nút mạng\n",
    "\n",
    "Mỗi nút mạng Bitcoin có thể được vận hành theo sơ đồ trong _Hình 1.16_ (không bắt buộc tuân thủ tuyệt đối). Nhìn chung, mỗi thành viên sẽ:\n",
    "-   Cố gắng giải câu đố băm nhằm tìm kiếm cơ hội công bố khối và thu về tiền thưởng.\n",
    "-   Lắng nghe giao dịch và khối từ các thành viên khác để có những phản ứng phù hợp.\n",
    "\n",
    "|![Dòng công việc tại một nút mạng Bitcoin](resource/workflow.png)|\n",
    "|:-:|\n",
    "|_Hình 1.16: Ví dụ về dòng công việc tại một nút mạng Bitcoin._|"
   ]
  },
  {
   "cell_type": "markdown",
   "metadata": {},
   "source": [
    "#### 1.5.3.5 Nguyên tắc chọn nhánh chính\n",
    "\n",
    "Nhánh được chọn không hẳn là nhánh dài nhất, mà chính xác hơn là nhánh có tổng độ khó $\\sum 1/\\epsilon_i$ (do độ khó tỉ lệ nghịch với giá trị ngưỡng) lớn nhất. Điều này nhằm tránh tấn công giả mạo cây khối (tương tự như đối với luật đồng thuận bằng chứng cổ phần mà ta đã tìm hiểu ở _Mục 1.4.2_). Cụ thể là cây khối trong luật bằng chứng công việc mà Bitcoin sử dụng vẫn có thể bị làm giả với chiều cao tương đương, thậm chí lớn hơn cây khối thật, tuy nhiên tổng độ khó trên nhánh chính của nó sẽ rất nhỏ. Nếu chú ý đến chi tiết này, các thành viên mới gia nhập hệ thống có thể tránh được việc mình bị lừa đồng bộ với cây khối giả mạo."
   ]
  }
 ],
 "metadata": {
  "kernelspec": {
   "display_name": "Python 2",
   "language": "python",
   "name": "python2"
  },
  "language_info": {
   "codemirror_mode": {
    "name": "ipython",
    "version": 2
   },
   "file_extension": ".py",
   "mimetype": "text/x-python",
   "name": "python",
   "nbconvert_exporter": "python",
   "pygments_lexer": "ipython2",
   "version": "2.7.16"
  }
 },
 "nbformat": 4,
 "nbformat_minor": 2
}
