{
 "cells": [
  {
   "cell_type": "markdown",
   "metadata": {},
   "source": [
    "## 1.4 Luật đồng thuận\n",
    "\n",
    "Luật đồng thuận là tập hợp những quy tắc ứng xử chung cho tất cả các nút mạng, nhằm đảm bảo yêu cầu bài toán đồng thuận được thỏa mãn và toàn bộ hệ thống được vận hành trơn tru. Có thể xem luật đồng thuận là lời giải đầy đủ cho bài toán đồng thuận (dựa trên chuỗi khối), đặt trong một hoàn cảnh cụ thể.\n",
    "\n",
    "Trong một môi trường mà sự tin tưởng giữa các nút mạng nằm ở mức cao (chuỗi khối riêng tư hay chuỗi khối tập đoàn), luật đồng thuận khá đơn giản (chủ yếu bao gồm nguyên tắc chọn nhánh dài nhất kết hợp với các quy ước về mã hóa/giải mã hay tạo/kiểm tra chữ ký số).\n",
    "\n",
    "Tuy nhiên, đối với một môi trường mở như chuỗi khối công cộng, luật đồng thuận thường được thiết kế cẩn thận, tạo ra nhiều ràng buộc, yêu cầu hay quy trình (mà các nút mạng phải thỏa mãn, đáp ứng hay thực hiện) phức tạp nhưng cũng rất thú vị. Chính vì lý do này, chúng ta sẽ chủ yếu tìm hiểu về các luật đồng thuận phổ biến trong chuỗi khối công cộng, tập trung vào cách mà các bộ luật này giải quyết 2 vấn đề cơ bản đặt ra. Đó là, duy trì tần suất công bố khối ở mức phù hợp và khuyến khích ghép nhiều sự kiện vào một khối, như đã tìm hiểu ở _Mục 1.3.1_."
   ]
  },
  {
   "cell_type": "markdown",
   "metadata": {},
   "source": [
    "### 1.4.1 Bằng chứng công việc\n",
    "\n",
    "Bằng chứng công việc là luật đồng thuận lâu đời nhất (sử dụng bởi Bitcoin, là chuỗi khối đầu tiên) và phổ biến nhất (sử dụng bởi hầu hết các chuỗi khối công cộng quen thuộc như: Bitcoin, Litecoin, Ethereum, ...). Ý tưởng về luật đồng thuận này dựa trên phương pháp cùng tên được sử dụng trong các hệ thống thư điện tử, tin nhắn điện tử nhằm hạn chế thư rác, tin nhắn rác tràn lan: người dùng cần thực hiện một khối lượng công việc nhất định trước khi gửi đi một lá thư hay tin nhắn điện tử."
   ]
  },
  {
   "cell_type": "markdown",
   "metadata": {},
   "source": [
    "Một công việc được xem là lý tưởng cho việc thiết kế luật đồng thuận bằng chứng công việc nếu như nó có những tính chất được nêu trong _Bảng 1.6_.\n",
    "\n",
    "_Bảng 1.6: Những đặc điểm của một công việc lý tưởng cho việc thiết kế luật đồng thuận bằng chứng công việc và ý nghĩa của chúng_\n",
    "\n",
    "|STT|Đặc điểm|Ý nghĩa|\n",
    "|:--|:--|:--|\n",
    "|1|Độ khó công việc có thể dễ dàng được điều chỉnh.|Các thành viên có thể tham gia hoặc rời khỏi hệ thống bất cứ lúc nào, dẫn đến tần suất công bố khối có thể tăng hoặc giảm một cách ngẫu nhiên. Tăng/giảm độ khó công việc chính là cách hệ thống phản ứng trước những biến đổi này nhằm duy trì tần suất công bố khối ở mức phù hợp.|\n",
    "|2|Việc công việc đã được hoàn thành hay chưa có thể dễ dàng được kiểm tra.|Bằng chứng công việc sẽ được đính kèm vào khối lúc công bố, và tất cả các thành viên trong hệ thống phải có nhiệm vụ kiểm tra xem công việc đã được hoàn thành hay chưa, trước khi quyết định khối đó có hợp lệ hay không và ghép nó vào cây khối. Do đó, ta mong muốn việc kiểm tra này được thực hiện càng nhanh càng tốt nhằm tiết kiệm tài nguyên cho toàn hệ thống, và phần nào giảm thời gian quảng bá khối (khối cần được kiểm tra tính hợp lệ trước khi một nút mạng chuyển tiếp nó cho các nút liền kề).|\n",
    "|3|Không gian công việc gần như vô hạn.|Đây là điều kiện tiên quyết cho nguyên tắc số 2 (xem _Bảng 1.7_) khi thiết kế luật đồng thuận bằng chứng công việc.|\n",
    "|4|Công việc mang tính hữu ích nhất định đối với xã hội.|Đứng từ góc nhìn tổng thể, ta thấy có một lượng lớn tài nguyên bỏ ra đến từ các thành viên nhằm duy trì hoạt động cho hệ thống. Nếu như những công việc mà các thành viên này thực hiện, bên cạnh việc vận hành hệ thống, mang lại một ý nghĩa nhất định cho xã hội thì hệ thống sẽ thu hút được nhiều sự quan tâm hơn, cũng như dễ dàng được xã hội chấp nhận hơn.|"
   ]
  },
  {
   "cell_type": "markdown",
   "metadata": {},
   "source": [
    "Bên cạnh tìm kiếm một công việc lý tưởng, tuân theo các nguyên tắc trong _Bảng 1.7_ khi thiết kế luật đồng thuận bằng chứng công việc cũng rất quan trọng.\n",
    "\n",
    "_Bảng 1.7: Những nguyên tắc cơ bản khi thiết kế luật đồng thuận bằng chứng công việc_\n",
    "\n",
    "|STT|Nguyên tắc|Ý nghĩa|\n",
    "|:--|:--|:--|\n",
    "|1|Sử dụng một thuật toán xác định để sinh công việc.|Nếu phải nhờ một bên thứ ba tin cậy đứng ra sinh và dàn xếp công việc cho các thành viên thì hệ thống sẽ mất đi tính phi tập trung vốn có và dễ phát sinh những hệ lụy, chẳng hạn bên thứ ba này có thể từ chối cung cấp công việc cho một thành viên nào đó (tước đi quyền viết lên cây khối của thành viên đó).|\n",
    "|2|Công việc sinh ra không được phép trùng lặp.|Nếu điều này xảy ra sẽ dẫn đến tình trạng các thành viên cướp bằng chứng công việc của nhau (nếu có hai thành viên có công việc giống nhau), hay tái sử dụng bằng chứng công việc cũ (nếu công việc từng được sinh ra và hoàn thành trong quá khứ).|\n",
    "|3|Tại cùng một thời điểm, các công việc mà mỗi thành viên thực hiện phải có độ khó tương đương nhau.|Điều này đơn giản nhằm tạo ra sự công bằng giữa các thành viên trong hệ thống mà thôi.|\n",
    "|4|Công việc có thời hạn hoàn thành.|Nếu không có thời hạn hoàn thành, mỗi thành viên có thể xử sự một cách ích kỷ bằng cách trì hoãn việc công bố khối, tích trữ bằng chứng công việc để công bố một loại khối cùng lúc, biến một nhánh phụ trở thành nhánh dài nhất, phủ nhận công sức mà các thành viên khác đã bỏ ra để công bố khối trên nhánh chính vừa bị thay thế.|"
   ]
  },
  {
   "cell_type": "markdown",
   "metadata": {},
   "source": [
    "Ta lấy ví dụ về một công việc có nội dung như sau: tìm chuỗi nhị phân $x$ thỏa $h(m_0 + x) < \\epsilon$, trong đó $h$ là một hàm băm mật mã an toàn, $m_0$ là một chuỗi nhị phân cho trước, $+$ là phép nối chuỗi và $\\epsilon$ là một giá trị ngưỡng. Ta tạm gọi công việc này là giải câu đố băm. Do tính kháng tiền ảnh của $h$, ta chỉ có thể giải câu đố băm bằng cách thử sai nhiều giá trị $x$ khác nhau cho đến khi giá trị băm nhỏ hơn ngưỡng yêu cầu. Vậy nên, việc giải câu đố băm không có tính nhớ (thời gian hoàn thành là một giá trị ngẫu nhiên và không phụ thuộc vào bao nhiêu $x$ đã thử trước đó).\n",
    "\n",
    "Dựa trên _Bảng 1.6_, dễ thấy công việc trên:\n",
    "-   _Thỏa mãn đặc điểm 1_: độ khó được điều chỉnh dễ dàng thông qua thay đổi giá trị ngưỡng $\\epsilon$.\n",
    "-   _Thỏa mãn đặc điểm 2_: chỉ cần thực hiện 1 lần băm là đủ để kiểm tra xem $x$ có thỏa mãn hay không.\n",
    "-   _Thỏa mãn đặc điểm 3_: nếu không tính đến $\\epsilon$, không gian công việc tương đương không gian của $m_0$ và có thể xem là vô hạn.\n",
    "-   _Không thỏa mãn đặc điểm 4_: lặp đi lặp lại việc tính toán giá trị băm không mang lại lợi ích gì cho xã hội.\n",
    "\n",
    "Thật ra, có nhiều loại công việc hữu ích đã được nghĩ đến (để thỏa mãn đặc điểm 4), chẳng hạn tìm số nguyên tố Mersenne, lắng nghe tín hiệu tại các miền tần số khác nhau để tìm kiếm sự sống ngoài Trái Đất, lưu trữ một vài phần của một tập tin khổng lồ để tăng tính sẵn sàng cho tập tin này, ... Tuy nhiên, chúng đều không thỏa mãn tất cả các đặc điểm trong _Bảng 1.6_ hay dễ dàng được triển khai theo tất cả các nguyên tắc trong _Bảng 1.7_. Công việc gần thỏa mãn hết mọi yêu cầu có lẽ là tìm dãy nguyên tố Cunningham trong luật đồng thuận của Primecoin. Tuy nhiên, ý nghĩa của những dãy nguyên tố Cunningham này nhiều đến đâu vẫn còn là một dấu hỏi."
   ]
  },
  {
   "cell_type": "markdown",
   "metadata": {},
   "source": [
    "Quay trở lại với việc giải câu đố băm, dựa trên nó, ta có thể thiết kế luật đồng thuận bằng cách bổ sung vào chuỗi khối thô những nội dung sau:\n",
    "\n",
    "_Bảng 1.8: Những nội dung được bổ sung vào chuỗi khối thô để có một luật đồng thuận bằng chứng công việc hoàn chỉnh (dựa trên giải câu đố băm)_\n",
    "\n",
    "|Nội dung|Ghi chú|\n",
    "|:--|:--|\n",
    "|Tích hợp một đồng tiền ảo (nếu chưa sẵn có) vào hệ thống.|Xem lại _Bảng 1.4_, hướng giải quyết vấn đề khuyến khích ghép nhiều sự kiện vào một khối.|\n",
    "|Mỗi sự kiện thêm vào 3 trường gồm định danh thành viên muốn công bố sự kiện, số tiền (là phí ghép sự kiện vào khối) mà thành viên này muốn chi trả cho bên công bố khối và chữ ký số của thành viên này lên toàn bộ nội dung sự kiện, bao gồm 2 trường kể trên (tiền muốn tiêu cần phải có chữ kí của người sở hữu). |Để đơn giản, có thể lấy khóa công khai dùng kiểm tra chữ kí của một thành viên làm định danh cho chính thành viên đó. Ngoài ra, có thể bổ sung thêm 1 trường số thứ tự để ngăn nguy cơ sự kiện bị phát lại nếu cảm thấy cần thiết.|\n",
    "|Mỗi khối thêm vào 3 trường gồm dấu thời gian ghi lại thời điểm khối được công bố, định danh thành viên công bố khối (người sẽ thu thập tiền thưởng công bố khối cũng như phí ghép sự kiện từ các thành viên có sự kiện được ghép nhờ) và bằng chứng công việc $x$ là lời giải cho câu đố băm.|Thành viên công bố khối sẽ cho thành viên khác ghép nhờ sự kiện nếu cảm thấy phí công bố sự kiện mà thành viên đó muốn nộp là thỏa đáng.|\n",
    "|Thêm điều kiện để khối hợp lệ: định danh của khối (giá trị băm của dữ liệu khối) cần nhỏ hơn một giá trị ngưỡng $\\epsilon$ và thời điểm công bố khối cần nằm giữa thời điểm công bố khối trước đó (khối được mở rộng) và thời điểm hiện tại.|Điều kiện về định danh khối chính là câu đố băm mà mỗi thành viên cần giải trước khi công bố khối.|\n",
    "|Các thành viên thống nhất giá trị ngưỡng ban đầu $\\epsilon_0$ trước khi hệ thống được triển khai và điều chỉnh lại giá trị này sau mỗi $N_\\epsilon$ khối được công bố (chỉ tính trên nhánh chính) theo công thức sau: $\\epsilon_\\text{mới} = \\epsilon_\\text{cũ} \\cdot \\frac{\\text{thời gian công bố} N_\\epsilon \\text{khối quan sát được}}{\\text{thời gian công bố} N_\\epsilon \\text{khối mong muốn}}$ (nếu thời gian quan sát được lớn hơn kỳ vọng, ta sẽ giảm độ khó bằng cách tăng giá trị ngưỡng và ngược lại).|Đây chính là nguyên nhân ta ghi lại thời điểm công bố khối lên mỗi khối. Như vậy, các thành viên có thể tự thống nhất về thời gian cố bố $N_\\epsilon$ quan sát được, từ đó thống nhất giá trị ngưỡng được điều chỉnh mà không cần đến bên thứ ba. Lưu ý $N_\\epsilon$ cần được lựa chọn sao cho không nhỏ quá (sẽ không phản ánh chính xác được thời gian công bố khối trung bình) cũng không lớn quá (dẫn đến việc điều chỉnh $\\epsilon$ bị trì trệ, không bắt kịp với những thay đổi xảy ra trên hệ thống).|\n",
    "|Tiền thưởng công bố khối sẽ giảm đi một nửa sau mỗi $N_r$ khối được công bố (chỉ tính trên nhánh chính).|Nội dung này nhằm giới hạn tổng giá trị đồng tiền lưu thông trong hệ thống, tránh tình trạng lạm phát không kiểm soát.|\n",
    "\n",
    "Dựa trên _Bảng 1.7_, luật đồng thuận này:\n",
    "-   _Thỏa mãn nguyên tắc 1_: khối mà một thành viên muốn công bố, không tính trường $x$, chính là $m_0$ còn giá trị ngưỡng được điều chỉnh và thống nhất chính là $\\epsilon$ trong câu đố băm mà thành viên đó cần giải quyết.\n",
    "-   _Thỏa mãn nguyên tắc 2_: hai khối, công bố bởi 2 thành viên thành viên khác nhau hoặc tại 2 thời điểm khác nhau, cho dù có tập sự kiện y hệt cũng không thể giống nhau ở tất cả các trường còn lại.\n",
    "-   _Thỏa mãn nguyên tắc 3_: độ khó câu đố băm phụ thuộc vào giá trị ngưỡng và giá trị này đã được thống nhất trên toàn hệ thống, giống nhau đối với tất cả các thành viên.\n",
    "-   _Thỏa mãn một phần nguyên tắc 4_: một bằng chứng công việc $x$ chỉ có thể dùng để công bố cho một khối xác định với một độ cao nhất định. Nếu một khối không được công bố ngay khi tìm được giá trị $x$ thỏa mãn mà để một khối khác cùng độ cao được công bố sớm hơn thì nhiều khả năng khối bị trì hoãn việc công bố sẽ chỉ nằm trên một nhánh phụ. Tuy nhiên, việc không thể áp đặt một thời hạn hoàn thành rõ ràng và phù hợp khiến cho luật đồng thuận này vẫn chịu rủi ro từ kiểu hành xử ích kỷ của các thành viên. Trên lý thuyết, nếu một thành viên sở hữu hơn 25% tổng sức mạnh trên toàn hệ thống (tần suất công bố khối lớn hơn $1/4$ tần suất chung) thì thành viên này có thể hưởng lợi từ kiểu hành xử trên. Dù vậy, biểu hiện của lối hành xử ích kỷ rất dễ bị nhận biết (tần suất công bố khối bỗng nhiên tăng đột ngột và có sự thay thế nhánh chính). Cho đến nay, kiểu tấn công hành xử ích kỷ vẫn chưa xuất hiện ngoài thực tế."
   ]
  },
  {
   "cell_type": "markdown",
   "metadata": {},
   "source": [
    "Có thể nói, luật đồng thuận vừa được trình bày đã tóm gọn các nội dung cốt lõi nhất trong hầu hết luật đồng thuận bằng chứng công việc sử dụng bởi các chuỗi khối công cộng phổ biến hiện nay. Tính khả thi của nó là không thể bàn cãi. Tuy nhiên, luật đồng thuận bằng chứng công việc có 2 nhược điểm quan trọng:\n",
    "-   Nếu một thành viên, bằng cách nào đó, sỡ hữu hơn 50% tổng sức mạnh trên toàn hệ thống, thì thành viên này sẽ có toàn quyền thao túng lên cây khối. Lúc này, tính phi tập trung của hệ thống sẽ không còn.\n",
    "-   Khó tìm được một loại hình công việc nào thỏa mãn đặc điểm 4 trong _Bảng 1.6_ một cách trọn vẹn. Như vậy, toàn bộ chi phí cho việc thực hiện những công việc này sẽ dần đổ dồn lên phí ghép sự kiện, khi mà tiền thưởng công bố khối giảm dần về 0. Chi phí đắt đỏ có thể khiến người dùng từ bỏ hệ thống và tìm đến những giải pháp khác.\n",
    "\n",
    "Và để khắc phục những nhược điểm đó, người ta bắt đầu nghĩ đến những luật đồng thuận khác. Trong số đó, bằng chứng cổ phần có lẽ là luật đồng thuận tiềm năng và nhận được nhiều sự quan tâm nhất."
   ]
  },
  {
   "cell_type": "markdown",
   "metadata": {},
   "source": [
    "### 1.4.2 Bằng chứng cổ phần \n",
    "\n",
    "Đối với luật đồng thuận bằng chứng công việc, mỗi thành viên có thể mua các thiết bị phần cứng và năng lượng (như điện),... để tăng tốc độ hoàn thành công việc, tăng tần suất công bố khối, từ đó thu về nhiều tiền thưởng công bố khối và phí ghép sự kiện hơn. Suy cho cùng thì đây cũng chỉ là một dạng đầu tư sinh lời (bỏ ra một số tiền và mong muốn thu lại nhiều tiền hơn). Vậy thì tại sao ta không ảo hóa phần công việc đi? Tại sao ta không trao quyền công bố khối trực tiếp cho những thành viên đang sở hữu một lượng lớn cổ phần tiền ảo trong hệ thống? Đây chính là khởi nguồn cho ý tưởng cốt lõi của luật đồng thuận bằng chứng cổ phần: sức mạnh là tiền, thay vì máy móc."
   ]
  },
  {
   "cell_type": "markdown",
   "metadata": {},
   "source": [
    "Hai nhược điểm mà luật đồng thuận bằng chứng công việc mắc phải phần nào được luật bằng chứng cổ phần khắc phục:\n",
    "-   Nếu một thành viên càng sở hữu nhiều tiền ảo trong hệ thống, thì thành viên này càng có xu hướng hành xử trung thực. Bởi, nếu có gì không hay xảy ra khiến người dùng quay lưng với hệ thống dẫn đến đồng tiền ảo mất giá trị, thì thiệt hại mà thành viên này gánh chịu càng nặng. Khi quyền viết lên cây khối nằm trong tay những người trung thực thì sự an toàn của hệ thống được đảm bảo.\n",
    "-   Khi công việc được ảo hóa, chi phí thực hiện công việc bị triệt tiêu dẫn đến phí ghép sự kiện giảm đáng kể. Điều này giúp hệ thống thu hút người dùng hơn."
   ]
  },
  {
   "cell_type": "markdown",
   "metadata": {},
   "source": [
    "Vấn đề lớn nhất mà luật đồng thuận bằng chứng cổ phần mắc phải đó là: cây khối hay chuỗi khối có thể bị làm giả một cách dễ dàng (vì nó không đòi hỏi người công bố khối phải thực hiện một công việc nặng nhọc thật sự như luật bằng chứng công việc). Như vậy, kẻ tấn công có thể làm giả toàn bộ sự kiện và khối, sao cho hắn sở hữu toàn bộ cổ phần tiền ảo của hệ thống. Khi một thành viên mới gia nhập hệ thống, để tránh phải đồng bộ với cây khối giả, thành viên này buộc phải đặt niềm tin vào một thành viên khác hay tổ chức nào đó (bên trong hoặc ngoài hệ thống). Điều này phá vỡ một giả thiết quan trọng mà ta đặt ra cho chuỗi khối công cộng: không cần ai phải tin ai để hệ thống có thể hoạt động."
   ]
  },
  {
   "cell_type": "markdown",
   "metadata": {},
   "source": [
    "Ngoài ra, cũng cần phải nói thêm rằng, tính an toàn của luật đồng thuận bằng chứng cổ phần chưa được chứng minh chặt chẽ bằng khoa học, hay được thực tế kiểm nghiệm đủ lâu như luật bằng chứng công việc (hiện có hơn 100 chuỗi khối công cộng áp dụng luật bằng chứng cổ phần với các cách thiết kế khác nhau, thế nhưng hầu hết tuổi đời của chúng còn rất trẻ). \"Liệu luật bằng chứng cổ phần có thể thay thế hoàn hảo luật bằng chứng công việc?\", \"Liệu tài nguyên phần cứng, năng lượng, ... là những thứ ta buộc phải tiêu tốn để có một chuỗi khối công cộng an toàn?\" vẫn đang là những câu hỏi mở còn gây nhiều tranh cãi."
   ]
  }
 ],
 "metadata": {
  "kernelspec": {
   "display_name": "Python 2",
   "language": "python",
   "name": "python2"
  },
  "language_info": {
   "codemirror_mode": {
    "name": "ipython",
    "version": 2
   },
   "file_extension": ".py",
   "mimetype": "text/x-python",
   "name": "python",
   "nbconvert_exporter": "python",
   "pygments_lexer": "ipython2",
   "version": "2.7.16"
  }
 },
 "nbformat": 4,
 "nbformat_minor": 2
}
