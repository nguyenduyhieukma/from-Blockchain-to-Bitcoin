{
 "cells": [
  {
   "cell_type": "markdown",
   "metadata": {},
   "source": [
    "# 3 Phân loại chuỗi khối\n",
    "\n",
    "Trong mục này, ta sẽ có cái nhìn rõ nét hơn về chuỗi khối bằng cách đặt nó vào từng hoàn cảnh thực tế , ứng với từng mức độ tin tưởng giữa các nút mạng trong hệ thống với nhau. Ba mức độ tin tưởng được đưa ra gồm: \n",
    "-   Không tin tưởng, ứng với chuỗi khối công cộng.\n",
    "-   Tin tưởng một phần, ứng với chuỗi khối tập đoàn.\n",
    "-   Tin tưởng tuyệt đối, ứng với chuỗi khối riêng tư."
   ]
  },
  {
   "cell_type": "markdown",
   "metadata": {},
   "source": [
    "## 3.1 Chuỗi khối công cộng"
   ]
  },
  {
   "cell_type": "markdown",
   "metadata": {},
   "source": [
    "### 3.1.1 Khái niệm\n",
    "\n",
    "Chuỗi khối công cộng là chuỗi khối mà ai cũng có thể tham gia, đọc và viết lên cây khối.\n",
    "\n",
    "Với các hệ thống phân tán xây dựng dựa trên lời giải bài toán đồng thuận được trình bày trong [_Bảng 1_](1.ipynb/#bang_1), nếu chuỗi khối được áp dụng thì những ví dụ đại diện cho chuỗi khối công cộng sẽ gồm:\n",
    "-   Máy tính quy mô toàn cầu.\n",
    "-   Hệ thống xử lý giao dịch cho một đồng tiền điện tử quy mô toàn cầu.\n",
    "-   Hệ thống quản lý tên miền cho người dùng Internet. "
   ]
  },
  {
   "cell_type": "markdown",
   "metadata": {},
   "source": [
    "### 3.1.2 Đặc điểm\n",
    "\n",
    "Đối với chuỗi khối công cộng, mỗi nút mạng đại diện cho (hay kiểm soát bởi) một thành viên là một cá nhân, tổ chức độc lập, tham gia hệ thống vì một lợi ích nào đó, thường giống nhau hoặc song hành với nhau.\n",
    "\n",
    "Mức độ tin cậy giữa các nút mạng nằm ở mức rất thấp, khá giống với môi trường Internet. Mỗi thành viên tham gia hệ thống sẽ làm bất cứ điều gì (không tuân theo các quy tắc chung), miễn sao tối đa hóa lợi ích riêng của họ. Dĩ nhiên, có những người luôn muốn phá hoại hệ thống vì một mục đích nào đó. Vậy nên, trong trường hợp này, người thiết kế chuỗi khối công cộng cần cân nhắc thật kĩ những nguy cơ tấn công mà chuỗi khối phải đối mặt, từ đó áp dụng các giải pháp phòng thủ thích hợp.\n",
    "\n",
    "Một đặc điểm nổi bật khiến hệ thống được xây dựng trên nền tảng chuỗi khối công cộng khác với các hệ thống hiện hữu với chức năng tương đương, đó là ở tính phi tập trung về mặt quản lý. Mỗi nút trong mạng ngang hàng đại diện cho một thành viên độc lập kết hợp với việc hệ thống có thể tự vận hành mà không cần sự giám sát hay điều tiết từ bất kì thành viên nào hay tổ chức bên ngoài. Vì vậy, chuỗi khối đảm bảo vai trò bình đẳng giữa các nút mạng cũng như sự công bằng giữa các thành viên tham gia hệ thống. Mỗi thành viên đều có những đóng góp nhất định vào quá trình vận hành hệ thống cũng như, sử dụng các dịch vụ mà hệ thống mang lại."
   ]
  },
  {
   "cell_type": "markdown",
   "metadata": {},
   "source": [
    "### 3.1.3 Các vấn đề đặt ra và hướng giải quyết\n",
    "\n",
    "Hai vấn đề cơ bản đặt ra cho chuỗi khối công cộng cùng ý tưởng giải quyết được trình bày trong [_Bảng 4_](#bang_4).\n",
    "\n",
    "<a id='bang_4'></a>_Bảng 4: Hai vấn đề cơ bản mà chuỗi khối công cộng phải đối mặt, kèm mức độ ảnh hưởng đến hệ thống và hướng giải quyết_\n",
    "\n",
    "|Vấn đề|Mức độ ảnh hưởng|Hướng giải quyết|\n",
    "|:--|:--|:--|\n",
    "|Các thành viên công bố khối một cách tùy tiện. Sự kiện trong khối có lợi cho bên công bố hoặc là sự kiện rác.|Đụng độ công bố khối xảy ra liên tục, kéo dài dẫn đến hao tổn tài nguyên cũng như tính nhất quán của hệ thống không còn.|Thêm ràng buộc cho khối hợp lệ nhằm duy trì tần suất công bố khối ở một mức phù hợp. Chẳng hạn phương pháp bằng chứng công việc được áp dụng cho các hệ thống thư điện tử góp phần hạn chế tin nhắn rác, thư rác. Mỗi thành viên cần thực hiện một khối lượng công việc nhất định để tạo được một khối hợp lệ.|\n",
    "|Tần suất xuất hiện sự kiện lớn hơn rất nhiều so với tần suất công bố khối, việc ghép nhiều sự kiện vào chung một khối là tất yếu. Tuy nhiên, thiếu động lực để một thành viên công bố sự kiện giúp thành viên khác (ghép sự kiện của thành viên khác vào trong khối của mình)|Mỗi thành viên phải chờ đợi rất lâu để sự kiện của mình được công bố trong một khối hợp lệ dẫn đến tính sẵn sàng của hệ thống không còn.|Thêm cơ chế để khuyến khích thành viên công bố khối ghép sự kiện của thành viên khác vào trong khối của mình. Chẳng hạn tạo ra một đồng tiền ảo (nếu chưa sẵn có) và xem việc ai đang sỡ hữu bao nhiêu giá trị đồng tiền đó là một phần của trạng thái được thống nhất. Thành viên muốn ghép nhờ sự kiện phải trả phí cho thành viên công bố khối. Hướng giải quyết này cũng đồng thời hạn chế việc các thành viên trong hệ thống công bố sự kiện một cách tùy tiện. Để khởi tạo đồng tiền, có thể thưởng một lượng tiền nhất định cho bên công bố khối mỗi khi có khối được công bố. Chính vì hầu hết mọi chuỗi khối công cộng đều áp dụng hướng giải quyết này nên đôi khi người ta còn gọi chúng là những đồng tiền mật mã.|\n",
    "\n",
    "Nếu hai vấn đề trên được giải quyết triệt để, việc triển khai một chuỗi khối công cộng là hoàn toàn khả thi."
   ]
  },
  {
   "cell_type": "markdown",
   "metadata": {},
   "source": [
    "## 3.2 Chuỗi khối tập đoàn\n",
    "\n",
    "### 3.2.1 Khái niệm\n",
    "\n",
    "Chuỗi khối tập đoàn là chuỗi khối mà quyền tham gia, đọc, viết lên cây khối được giới hạn cho một nhóm đối tượng xác định.\n",
    "\n",
    "Với các hệ thống phân tán xây dựng dựa trên lời giải bài toán đồng thuận được trình bày trong [_Bảng 1_](1.ipynb/#bang_1), nếu chuỗi khối được áp dụng thì những ví dụ đại diện cho chuỗi khối tập đoàn sẽ gồm:\n",
    "-   Hệ thống quản lý hồ sơ bệnh án cho các bệnh viện.\n",
    "-   Hệ thống lưu trữ văn bằng, chứng chỉ cho các trường học, học viện."
   ]
  },
  {
   "cell_type": "markdown",
   "metadata": {},
   "source": [
    "### 3.2.2 Đặc điểm\n",
    "\n",
    "Tương tự như chuỗi khối công cộng, chuỗi khối tập đoàn có mỗi nút mạng đại diện cho một thành viên là một cá nhân, tổ chức, tuy nhiên các thành viên này ít nhiều có sự cạnh tranh (mâu thuẫn về lợi ích), tham gia hệ thống vì muốn chia sẻ thông tin với nhau một cách trung thực, rõ ràng và minh bạch hoặc/và tăng tính toàn vẹn, sẵn sàng cho những thông tin đó.\n",
    "\n",
    "Sự tin tưởng giữa các nút mạng đến từ uy tín của mỗi thành viên trong hệ thống. Tuy nhiên, như đã nói, các thành viên thường là đối thủ cạnh tranh của nhau ngoài thực tế, nên không thể tin tưởng nhau ở mức độ tuyệt đối.\n",
    "\n",
    "Đối với chuỗi khối tập đoàn, các thành viên có thể cùng nhau lập một hội đồng và hội đồng này giúp giám sát và điều tiết hoạt động của hệ thống."
   ]
  },
  {
   "cell_type": "markdown",
   "metadata": {},
   "source": [
    "### 3.2.3 Các vấn đề đặt ra và hướng giải quyết\n",
    "\n",
    "Chuỗi khối tập đoàn không phải đối mặt với những vấn đề trong [_Bảng 4_](#bang_4) như chuỗi khỗi công cộng, bởi chuỗi khối tập đoàn không mở: không phải ai cũng có thể tham gia vào hệ thống cũng như có các quyền đọc/ghi lên chuỗi khối. Thay vào đó, [_Bảng 5_](#bang_5) điểm qua một số yêu cầu mà chuỗi khối tập đoàn cần thỏa mãn:\n",
    "\n",
    "<a id='bang_5'></a>_Bảng 5: Những vấn đề chuỗi khối tập đoàn thường đối mặt, kèm hướng giải quyết_\n",
    "\n",
    "|Vấn đề|Hướng giải quyết|\n",
    "|:--|:--|\n",
    "|Đảm bảo tính bí mật cho chuỗi khối. Chỉ những thành viên thuộc hệ thống mới được phép đọc/ghi lên chuỗi khối.|Áp dụng các kĩ thuật mã hóa/giải mã khi truyền dẫn hay lưu trữ khối.|\n",
    "|Cung cấp một số dịch vụ cho người dùng ngoài hệ thống.|Triển khai các kĩ thuật xác thực, phân quyền đối với các thành viên cũng như người dùng ngoài hệ thống.|\n",
    "|Đảm bảo nguồn gốc rõ ràng và tính toàn vẹn của khối được công bố, không cho phép thành viên phủ nhận việc đã công bố khối.|Áp dụng các kĩ thuật chữ kí số: bắt buộc mỗi thành viên phải ký lên dữ liệu khối mỗi khi công bố khối.|"
   ]
  },
  {
   "cell_type": "markdown",
   "metadata": {},
   "source": [
    "## 3.3 Chuỗi khối riêng tư\n",
    "\n",
    "Khi tất cả nút trong mạng ngang hàng đều thuộc quyền kiểm soát của chỉ một cá nhân, tổ chức, ta có chuỗi khối riêng tư. Đương nhiên, mức độ tin tưởng giữa các nút mạng là tuyệt đối (loại trừ trường hợp nút mạng ngưng hoạt động hay có các hành vi bất thường do yếu tố ngẫu nhiên). Trong trường hợp này, chuỗi khối không mang lại nhiều ý nghĩa và có thể xem nó đơn giản như là một kĩ thuật nhân bản cơ sở dữ liệu."
   ]
  }
 ],
 "metadata": {
  "kernelspec": {
   "display_name": "Python 2",
   "language": "python",
   "name": "python2"
  },
  "language_info": {
   "codemirror_mode": {
    "name": "ipython",
    "version": 2
   },
   "file_extension": ".py",
   "mimetype": "text/x-python",
   "name": "python",
   "nbconvert_exporter": "python",
   "pygments_lexer": "ipython2",
   "version": "2.7.16"
  }
 },
 "nbformat": 4,
 "nbformat_minor": 2
}
