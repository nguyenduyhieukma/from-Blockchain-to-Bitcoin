{
 "cells": [
  {
   "cell_type": "markdown",
   "metadata": {},
   "source": [
    "# 1. Tổng quan về công nghệ chuỗi khối và Bitcoin"
   ]
  },
  {
   "cell_type": "markdown",
   "metadata": {},
   "source": [
    "## 1.1 Khái niệm chuỗi khối"
   ]
  },
  {
   "cell_type": "markdown",
   "metadata": {},
   "source": [
    "Để hiểu về chuỗi khối, ta cần đặt nó vào trong một bức tranh tổng quan. Trong bức tranh này, ta lần lượt có máy trạng thái, bài toán đồng thuận và chuỗi khối."
   ]
  },
  {
   "cell_type": "markdown",
   "metadata": {},
   "source": [
    "### 1.1.1 Máy trạng thái."
   ]
  },
  {
   "cell_type": "markdown",
   "metadata": {},
   "source": [
    "|![Máy trạng thái](resource/state-machine.png)|\n",
    "|:-:|\n",
    "|_Hình 1.1: Một máy trạng thái đơn giản_|\n",
    "\n",
    "_Hình 1.1_ là một máy trạng thái đơn giản gồm 3 trạng thái: $S_1, S_2, S_3$ cùng các tác nhân (hay còn gọi là sự kiện) gây chuyển dịch trạng thái: $a, b, c, d$. Mỗi trạng thái nhất định dưới tác nhân thích hợp sẽ chuyển đội thành một trạng thái khác."
   ]
  },
  {
   "cell_type": "markdown",
   "metadata": {},
   "source": [
    "_Bảng 1.1: Một số ví dụ về máy trạng thái_\n",
    "\n",
    "|Trạng thái|Tác nhân/sự kiện|\n",
    "|:--|:--|\n",
    "|Dữ liệu trên bộ nhớ máy tính|Máy tính thực thi một câu lệnh|\n",
    "|Số tiền trong mỗi tài khoản người dùng|Việc thực hiện một giao dịch chuyển tiền từ tài khoản này sang tài khoản khác|\n",
    "|Danh sách tên miền kèm địa chỉ IP tương ứng|Việc xử lý yêu cầu đăng kí/xóa tên miền|\n",
    "|Hồ sơ bệnh án mỗi bệnh nhân: từng khám ở đâu, bị bệnh gì, đã uống loại thuốc nào, ...|Một bệnh nhân nào đó đi khám bệnh|\n",
    "|Bằng cấp, chứng chỉ của mỗi người|Một người nào đó tốt nghiệp một trường hay hoàn thành một khóa học|\n",
    "\n",
    "Có thể thấy, mô hình máy trạng thái mang tính tổng quát cao và dễ dàng áp dụng cho nhiều tình huống cụ thể.\n",
    "\n",
    "Các ví dụ trong _Bảng 1.1_ không được nêu ra một cách ngẫu nhiên mà chúng có liên quan đến những bài toán thực tế điển hình có thể giải quyết hiệu quả bằng công nghệ chuỗi khối. Các mục tiếp theo sẽ phân tích kĩ hơn về những ví dụ này."
   ]
  },
  {
   "cell_type": "markdown",
   "metadata": {},
   "source": [
    "### 1.1.2 Bài toán đồng thuận"
   ]
  },
  {
   "cell_type": "markdown",
   "metadata": {},
   "source": [
    "Dữ kiệu và yêu cầu bài toán đồng thuận được đặt ra như sau:\n",
    "\n",
    "_Dữ kiện bài toán:_\n",
    "1.  Một máy trạng thái $M$.\n",
    "2.  Một mạng ngang hàng với số lượng nút mạng $n$ có thể thay đổi theo thời gian.\n",
    "3.  Tồn tại độ trễ trên liên kết giữa hai nút mạng bất kì.\n",
    "4.  Mỗi nút mạng $o_i$ đề nghị chuyển trạng thái cho $M$ thông qua các sự kiện $e_{ij}$ tại các thời điểm ngẫu nhiên $t_{ij}$ (tham khảo _Hình 1.2_).\n",
    "\n",
    "_Yêu cầu bài toán:_\n",
    "Tại mỗi thời điểm $t$ bất kì, các nút mạng thống nhất một chuỗi sự kiện $u_t = (e_{ij})$ hợp lệ và nếu $t_1 < t_2$ thì $u_{t_2}$ phải là một mở rộng của $u_{t_1}$ (tham khảo _Hình 1.2_). Lời giải cũng cần phải đảm bảo vai trò bình đẳng (tính ngang hàng) giữa các nút mạng.\n",
    "\n",
    "|![Ví dụ về bài toán đồng thuận](resource/consensus-problem.png)|\n",
    "|:-:|\n",
    "|_Hình 1.2: Ví dụ về bài toán đồng thuận_|\n",
    "\n",
    "_Lưu ý:_\n",
    "-   Chuỗi sự kiện hợp lệ khi và chỉ khi $M$ chuyển trạng thái thành công (từ trạng thái khởi tạo) với chuỗi sự kiện đó. Chẳng hạn đối với máy trạng thái mô tả ở _Hình 1.1_, giả sử trạng thái khởi tạo là $S_1$, chuỗi sự kiện $(a, b, d, c) $ là hợp lệ bởi $S_1 \\xrightarrow{a} S_3 \\xrightarrow{b} S_2 \\xrightarrow{d} S_1 \\xrightarrow{c} S_2$, còn chuỗi $(a, c)$ không hợp lệ bởi $S_1 \\xrightarrow{a} S_3$ và $S_3$ không thể chuyển trạng thái với $c$.\n",
    "-   Không nhất thiết tất cả các sự kiện $e_{ij}$ có $t_{ij} < t_s$ phải có mặt trong chuỗi sự kiện $u_{t_s}$ (được thống nhất tại thời điểm $t_s$)."
   ]
  },
  {
   "cell_type": "markdown",
   "metadata": {},
   "source": [
    "Nếu bài toán trên được giải quyết, ta có thể xây dựng các hệ thống phân tán như sau ($M$ lần lượt ứng với từng ví dụ về máy trạng thái được nêu ra trong _Mục 1.1.1_):\n",
    "-   Một máy tính quy mô toàn cầu (có trạng thái như nhau ở khắp nơi trên thế giới tại mỗi thời điểm).\n",
    "-   Hệ thống xử lý giao dịch của một đồng tiền điện tử quy mô toàn cầu.\n",
    "-   Hệ thống quản lý tên miền (DNS).\n",
    "-   Hệ thống quản lý hồ sơ bệnh án cho hàng nghìn bệnh viện thành viên.\n",
    "-   Hệ thống lưu trữ văn bằng, chứng chỉ cho hàng nghìn trường học, học viện thành viên."
   ]
  },
  {
   "cell_type": "markdown",
   "metadata": {},
   "source": [
    "Ý nghĩa của yêu cầu và các dữ kiện của bài toán đồng thuận:\n",
    "-   Sự thống nhất về một chuỗi sự kiện cũng là sự thống nhất về trạng thái (kết quả chuyển dịch bởi chuỗi sự kiện đó từ trạng thái khởi tạo của máy trạng thái).\n",
    "-   Sự thống nhất về trạng thái giữa các nút ngang hàng giúp đảm bảo sự ổn định và tăng tính sẵn sàng của hệ thống. Nếu xem hệ thống là một thể thống nhất thì dữ liệu mà nó lưu trữ sẽ rất khó bị mất đi, dịch vụ mà nó cung cấp sẽ rất khó bị ngừng trệ, trừ khi có sự cố xảy ra trên đồng thời tất cả các nút mạng.\n",
    "-   Bên cạnh trạng thái cuối cùng, chuỗi sự kiện thống nhất còn cho ta biết toàn bộ quá trình trạng thái chuyển dịch, giúp đảm bảo khả năng truy vết máy trạng thái.\n",
    "-   Dữ kiện 2 của bài toán cho phép số nút trong mạng ngang hàng $n$ thay đổi theo thời gian. Điều này có ý nghĩa giúp hệ phân tán vẫn tiếp tục vận hành bình thường trong hoàn cảnh một số nút mạng ngưng hoạt động ($n$ giảm) hay hệ thống được mở rộng ($n$ tăng).\n",
    "-   Dữ kiện 3 về việc tồn tại độ trễ trên liên kết giữa hai nút mạng bất kì là điều kiện tiên quyết để lời giải cho bài toán đồng thuận có thể áp dụng vào thực tế.\n",
    "-   Yêu cầu $u_{t_2}$ phải là một mở rộng của $u_{t_1}$ nhằm biến $u$ thành một danh sách sự kiện dài dần theo thời gian. Sự kiện đã được thêm vào danh sách sẽ không thể bị thay đổi. Điều này đảm bảo tính toàn vẹn (của dữ liệu được viết lên danh sách), và tính chống chối bỏ (sự kiện phát ra bởi một nút nhiều khả năng sẽ vĩnh viễn nằm trên danh sách)."
   ]
  },
  {
   "cell_type": "markdown",
   "metadata": {},
   "source": [
    "Cũng cần phải nói thêm rằng, trong các hệ thống kể trên cũng như nhiều tình huống thực tế khác, thứ tự sự kiện thường không quan trọng (nói cách khác là các sự kiện thường độc lập với nhau). Điều này nghĩa là việc chuyển dịch trạng thái với chuỗi sự kiện thường không phụ thuộc thứ tự sự kiện trong chuỗi sự kiện đó (_Hình 1.3_). Lấy ví dụ như các câu lệnh truy xuất vào các vùng nhớ khác nhau đối với một máy tính hay những giao dịch chuyển tiền giữa các tài khoản khác nhau trong một hệ thống xử lý giao dịch. Trong những hệ thống như vậy, cái mà người dùng thực sự quan tâm là liệu một sự kiện nào đó đã xảy ra hay chưa, chứ không quan trọng việc nó xảy ra trước hay sau một sự kiện nào đó khác.\n",
    "\n",
    "|![Các sự kiện độc lập](resource/independent-events.png)|\n",
    "|:-:|\n",
    "|_Hình 1.3: Ví dụ về hai sự kiện độc lập a, b. Chuyển trạng thái với (a, b) hay (b, a) đều cho kết quả như nhau_|\n",
    "\n",
    "Nói như vậy không có nghĩa là việc thống nhất thứ tự các sự kiện là không quan trọng, bởi không phải lúc nào các sự kiện cũng độc lập với nhau. Chẳng hạn trong một hệ thống xử lý giao dịch, tài khoản A hiện có 100 đồng, hai giao dịch _\"A chuyển B 100 đồng\"_ và _\"A chuyển C 100 đồng\"_ được công bố đồng thời; dễ thấy chỉ một trong hai giao dịch trên là hợp lệ và việc thống nhất giao dịch nào xảy ra trước đóng vai trò quyết định đến việc thống nhất, trên toàn hệ thống, giao dịch nào hợp lệ còn giao dịch nào không."
   ]
  },
  {
   "cell_type": "markdown",
   "metadata": {},
   "source": [
    "Một điều cần lưu ý nữa là ta có thể xem chuỗi sự kiện là một sự kiện lớn bao gồm nhiều sự kiện con với trình tự xác định, bởi sự kiện hay chuỗi sự kiện thì cũng chỉ có một vai trò duy nhất là làm trạng thái chuyển dịch mà thôi."
   ]
  },
  {
   "cell_type": "markdown",
   "metadata": {},
   "source": [
    "### 1.1.3 Sơ lược về chuỗi khối"
   ]
  },
  {
   "cell_type": "markdown",
   "metadata": {},
   "source": [
    "Dưới góc nhìn nào đó, có thể xem chuỗi khối là một lời giải cho bài toán đồng thuận ở _Mục 1.1.2_. Trong lời giải này, mỗi nút mạng thực hiện 2 công việc đồng thời như sau:\n",
    "-   Khi có nhu cầu công bố sự kiện $e_i$, nút sẽ tạo và quảng bá ra mạng ngang hàng khối $B_i = (e_i, f_{bid}(B_{i-1}))$ (_Hình 1.4_), trong đó $f_{bid}$ là hàm tạo định danh cho khối, $B_{i-1}$ là khối chứa $e_{i-1}$ là sự kiện cuối cùng trong chuỗi sự kiện được thống nhất.\n",
    "\n",
    "|![Cấu trúc khối](resource/block.png)|\n",
    "|:-:|\n",
    "|_Hình 1.4: Cấu trúc khối_|\n",
    "\n",
    "-   Nút lắng nghe các khối được công bố, lắp ghép chúng thành một cây và xem nhánh dài nhất là chuỗi khối chứa chuỗi sự kiện được thống nhất _(*)_. Chẳng hạn như trong _Hình 1.5_, nếu mỗi khối $B_i$ chứa sự kiện $e_i$ thì chuỗi sự kiện được thống nhất sẽ là $u = (e_1, e_3, e_5, e_7, e_9, e_{10}, e_{11})$ nếu chuỗi này hợp lệ. Nếu không, nhánh dài nhất tiếp theo sẽ được xem xét.\n",
    "\n",
    "|![Chuỗi khối](resource/blockchain.png)|\n",
    "|:-:|\n",
    "|_Hình 1.5: Chuỗi khối_|"
   ]
  },
  {
   "cell_type": "markdown",
   "metadata": {},
   "source": [
    "Dưới đây là một số thuật ngữ về chuỗi khối sẽ được sử dụng xuyên suốt trong đồ án này:\n",
    "-   _Khối mở rộng khối_: Khối A mở rộng khối B nếu khối A chứa định danh khối B. Chẳng hạn như trong _Hình 1.5_, ta có $B_3$ và $B_2$ đều mở rộng $B_1$, $B_4$ mở rộng $B_2$, $B_5$ và $B_6$ đều mở rộng $B_3$, ...\n",
    "-   _Khối mở rộng nhánh_: Khối mở rộng nhánh khi nó mở rộng khối cuối cùng của nhánh. Chẳng hạn như trong _Hình 1.5_, ta có khối $B_4$ mở rộng nhánh $(B_1, B_2)$, khối $B_{11}$ mở rộng nhánh $(B_1, B_3, B_5, B_7, B_9, B_{10})$.\n",
    "-   _Độ cao khối_: Độ cao một khối bằng 1 cộng số khối trong nhánh mà khối này mở rộng. Chẳng hạn như trong _Hình 1.5_, độ cao của khối $B_1$, $B_2$, $B_3$, $B_4$, $B_5$, $B_6$ lần lượt bằng 1, 2, 2, 3, 3, 3.\n",
    "-   _Tuổi khối_: Tuổi của khối ứng với một nhánh bằng 1 cộng số khối tiếp sau khối này trong nhánh. Chẳng hạn như trong _Hình 1.5_, tuổi của $B_7$ ứng với nhánh dài nhất bằng 4 vì có 3 khối \"trẻ\" hơn tiếp theo sau lần lượt là $B_9, B_{10}, B_{11}$.\n",
    "-   _Độ dài nhánh_: Độ dài nhánh tính bằng số khối của nhánh hay độ cao của khối ở ngọn (khối cuối cùng của nhánh). Chẳng hạn như trong _Hình 1.5_, nhánh dài nhất có độ dài bằng 7.\n",
    "-   _Tính hợp lệ của nhánh_: Nhánh hợp lệ nếu chuỗi sự kiện chứa trong nó hợp lệ. Như vậy, chuỗi sự kiện thống nhất được chứa trong nhánh hợp lệ dài nhất.\n",
    "-   _Nhánh chính, nhánh phụ_: Đôi khi ta gọi nhánh chuỗi sự kiện thống nhất là nhánh chính, các nhánh còn lại là nhánh phụ."
   ]
  },
  {
   "cell_type": "markdown",
   "metadata": {},
   "source": [
    "Sau đây chúng ta sẽ phản biện để làm rõ tại sao chuỗi khối có thể giải quyết bài toán đồng thuận:\n",
    "\n",
    "_Q1: Nút khi công bố khối có nhất thiết phải mở rộng nhánh hợp lệ dài nhất không?_\n",
    "\n",
    "\\- Không bắt buộc, tuy nhiên cần nhớ rằng, nếu khối không nằm trong nhánh hợp lệ dài nhất thì sự kiện chứa trong nó xem như chưa từng xảy ra!\n",
    "\n",
    "_Q2: Nếu vậy thì trường _$f_{bid}(B_{i-1})$_ trong khối có ý nghĩa gì khi nó luôn là định danh của khối cuối cùng thuộc nhánh hợp lệ dài nhất?_\n",
    "\n",
    "\\- Bởi vì hình ảnh cây khối tại mỗi nút mạng có thể khác nhau đôi chút vì độ trễ truyền dẫn trên liên kết giữa hai nút mạng bất kì. Nhánh hợp lệ dài nhất không thể lúc nào cũng giống nhau tại tất cả các nút mạng tại mọi thời điểm.\n",
    "\n",
    "_Q3: Có vẻ như chuỗi sự kiện được thống nhất tại mỗi nút mạng không giống nhau tại mọi thời điểm. Vậy lời giải này liệu có thỏa mãn yêu cầu của bài toán đồng thuận không?_\n",
    "\n",
    "\\- Khi việc quảng bá tất cả các khối hoàn tất và không có thêm nhu cầu công bố sự kiện nào, mạng ngang hàng sẽ rơi vào trạng thái tĩnh. Lúc này hình ảnh cây khối, nhánh hợp lệ dài nhất và chuỗi sự kiện thống nhất tại tất cả các nút mạng là như nhau. Như vậy, yêu cầu của bài toán đồng thuận cuối cùng cũng sẽ được thỏa mãn mà thôi.\n",
    "\n",
    "_Q4: Chuyện gì xảy ra nếu có 2 khối được công bố gần như đồng thời bởi 2 nút mạng khác nhau, tạo 2 nhánh cùng độ dài lớn nhất?_\n",
    "\n",
    "\\- Hiện tượng này được gọi là đụng độ (tham khảo giai đoạn công bố $B_2, B_3$ ở _Hình 1.6_). Đứng trên góc nhìn của từng nút, mỗi nút mặc định chọn nhánh được tạo sớm hơn (nhánh có ngọn là khối nhận được trước) chứa chuỗi sự kiện thống nhất, và lẽ dĩ nhiên, sẽ mở rộng nhánh này nếu nó có nhu cầu công bố khối tiếp theo. Xét trên toàn hệ thống, có thể nói, các nút mạng đang chia làm hai nhóm, ứng với hai nhánh được chọn khác nhau. Nhánh nào thắng thế và trở thành nhánh dài nhất toàn hệ thống phụ thuộc vào việc khối tiếp theo được công bố bởi nút thuộc nhóm nào (không loại trừ khả năng đụng độ tiếp tục xảy ra, tham khảo giai đoạn công bố $B_4, B_5, B_6$ ở _Hình 1.6_). Sự kiện nằm trong khối thuộc nhánh không được chọn nếu cần có thể được công bố lại trong một khối mới cho đến khi khối mới thuộc nhánh hợp lệ dài nhất. Nhìn chung, ta không mong muốn đụng độ xảy ra, bởi việc tạo và quảng bá một khối không thuộc nhánh dài nhất có thể xem là một việc làm vô nghĩa dù tiêu tốn một lượng tài nguyên nhất định.\n",
    "\n",
    "|![Đụng độ công bố khối](resource/block-announcement-collision.png)|\n",
    "|:-:|\n",
    "|_Hình 1.6: Đụng độ công bố khối. Khi đụng độ xảy ra, nhánh hợp lệ dài nhất tại mỗi nút mạng có thể khác nhau, tuy nhiên khi đụng độ kết thúc (chỉ một trong số các nhánh cạnh tranh được mở rộng), các nút mạng trở về trạng thái nhất quán ban đầu._|\n",
    "\n",
    "_Q5: Việc nhánh hợp lệ dài nhất bị thay đổi tại một nút sau đụng độ có còn đảm bảo tính chất chỉ-có-thể-thêm-vào của danh sách sự kiện được thống nhất không?_\n",
    "\n",
    "\\- Đây chính là nhược điểm lớn nhất của chuỗi khối. Một sự kiện nằm trên danh sách sự kiện thống nhất toàn hệ thống khi và chỉ khi khối chứa sự kiện đó thuộc nhánh hợp lệ dài nhất của tất cả các cây khối tại tất cả các nút mạng (chẳng hạn như trong _Hình 1.6_, giả sử mạng chỉ gồm 3 nút là $o_1, o_2, o_3$, thì trước thời điểm $B_7$ được công bố, chỉ duy nhất sự kiện chứa trong $B_1$ được thống nhất bởi chỉ $B_1$ thuộc nhánh hợp lệ dài nhất ở cả 3 cây khối). Tuy nhiên, mỗi nút mạng không hề biết cụ thể cây khối ở các nút mạng khác trông như thế nào, nên nó không thể chắc chắn 100% liệu một sự kiện nào đó đã được thống nhất trên toàn hệ thống hay chưa. Dù vậy, ta có một số thông tin đáng mừng sau:\n",
    "-   Ta có thể ghép sự kiện để mỗi khối chứa một sự kiện lớn hơn, làm giãn cách thời gian trung bình công bố một khối.\n",
    "-   Khi tương quan giữa thời gian trung bình công bố khối càng lớn so với độ trễ truyền dẫn, xác suất xảy ra đụng độ càng thấp.\n",
    "-   Xác suất xảy ra đụng độ liên tiếp giảm mạnh theo quy luật hàm mũ. Do đó, ta có thể an tâm rằng, khi một khối thuộc nhánh hợp lệ dài nhất có tuổi càng lớn (đã được nhiều khối khác chồng lên) thì ta càng chắc chắn về việc sự kiện chứa trong khối đã được thống nhất trên toàn hệ thống."
   ]
  },
  {
   "cell_type": "markdown",
   "metadata": {},
   "source": [
    "Về cơ bản, ta đã phần nào nắm được cách mà chuỗi khối hoạt động để giải quyết bài toán đồng thuận đặt ra. Tuy nhiên, khi áp dụng chuỗi khối vào thực tế, ta cần cải tiến nó cho phù hợp với từng hoàn cảnh cụ thể. Các công cụ mật mã sẽ bổ sung cho chuỗi khối những tính chất an toàn mà ta mong muốn."
   ]
  },
  {
   "cell_type": "markdown",
   "metadata": {},
   "source": [
    "_(*) Chuỗi sự kiện thống nhất có thể nằm trong nhánh thỏa mãn một đặc điểm khác, không nhất thiết phải là nhánh có độ dài lớn nhất. Tuy nhiên, để tiện cho việc diễn giải, tác giả đã lựa chọn như vậy (cho dù một đặc điểm khác có được lựa chọn, ý tưởng trình bày về cơ bản vẫn không có gì thay đổi). Ngoài ra, trong các chuỗi khối thực tế, nhánh được thống nhất (bằng nhiều tiêu chí khác nhau) thường cũng là nhánh dài nhất._"
   ]
  }
 ],
 "metadata": {
  "kernelspec": {
   "display_name": "Python 2",
   "language": "python",
   "name": "python2"
  },
  "language_info": {
   "codemirror_mode": {
    "name": "ipython",
    "version": 2
   },
   "file_extension": ".py",
   "mimetype": "text/x-python",
   "name": "python",
   "nbconvert_exporter": "python",
   "pygments_lexer": "ipython2",
   "version": "2.7.16"
  }
 },
 "nbformat": 4,
 "nbformat_minor": 2
}
